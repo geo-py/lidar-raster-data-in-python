{
 "cells": [
  {
   "cell_type": "markdown",
   "metadata": {},
   "source": [
    "### Lesson 4. About the Geotiff (.tif) Raster File Format: Raster Data in Python\n",
    "\n",
    "**In This Lesson**\n",
    "- Learning objectives\n",
    "- What You Need\n",
    "- What is a GeoTIFF?\n",
    "- Single Layer (or Band) vs Multi-Layer (Band Geotiffs)\n",
    "\n",
    "**Learning objectives**\n",
    "\n",
    "After completing this tutorial, you will be able to:\n",
    "\n",
    "* Access metadata stored within a geotiff raster file via tif tags in Python.\n",
    "* Describe the difference between embedded metadata and non embedded metadata.\n",
    "* Use .meta to quickly view key spatial metadata attributes associated with a spatial file."
   ]
  },
  {
   "cell_type": "markdown",
   "metadata": {},
   "source": [
    "What is a GeoTIFF?\n",
    "\n",
    "A GeoTIFF is a standard .tif or image file format that includes additional spatial (georeferencing) information embedded in the .tif file as tags. These embedded tags are called tif tags. These tags can include the following raster metadata:\n",
    "\n",
    "1. Spatial Extent: What area does this dataset cover\n",
    "2. Coordinate reference system: What spatial projection / coordinate reference system is used to store the data? Will it line up with other data?\n",
    "3. Resolution: The data appears to be in raster format. This means it is composed of pixels. What area on the ground does each pixel cover - i.e. What is its spatial resolution?\n",
    "4. nodata value\n",
    "5. How many layers are in the .tif file. (more on that later)\n",
    "\n",
    "You discussed spatial extent and resolution in the previous lesson. When you work with geotiffs the spatial information that describes the raster data are embedded within the file itself"
   ]
  },
  {
   "cell_type": "markdown",
   "metadata": {},
   "source": [
    "***\n",
    "**Data Tip:** Your camera uses embedded tags to store information about pictures that you take including the camera make and model, and the time the image was taken.\n",
    " ***"
   ]
  },
  {
   "cell_type": "markdown",
   "metadata": {},
   "source": [
    "More about the .tif format:\n",
    "- GeoTIFF on Wikipedia\n",
    "- OSGEO TIFF documentation\n",
    "\n",
    "**Geotiffs in Python**\n",
    "\n",
    "The rasterio package in Python allows us to both open geotiff files and also to directly access .tif tags programmatically. You can quickly view the spatial extent, coordinate reference system and resolution of your raster data.\n",
    "\n",
    "NOTE: not all geotiffs contain tif tags!"
   ]
  },
  {
   "cell_type": "code",
   "execution_count": 1,
   "metadata": {},
   "outputs": [],
   "source": [
    "# import all packages in their own cell at the top of your notebook\n",
    "import rasterio as rio\n",
    "import os\n",
    "import earthpy as et\n",
    "os.chdir(os.path.join(et.io.HOME, 'earth-analytics'))"
   ]
  },
  {
   "cell_type": "markdown",
   "metadata": {},
   "source": [
    "Next let’s open up a raster file in geotiff format (.tif)."
   ]
  },
  {
   "cell_type": "code",
   "execution_count": 4,
   "metadata": {},
   "outputs": [],
   "source": [
    "with rio.open('data/colorado-flood/spatial/boulder-leehill-rd/pre-flood/lidar/pre_DTM.tif') as lidar_dem:\n",
    "    lidar_dem.bounds"
   ]
  },
  {
   "cell_type": "markdown",
   "metadata": {},
   "source": [
    "You can view spatial attibutes associated with the raster file too. Below you explore viewing a general list of attributes and then specific attributes including number of bands and horizontal (x, y) resolution."
   ]
  },
  {
   "cell_type": "code",
   "execution_count": 5,
   "metadata": {},
   "outputs": [
    {
     "data": {
      "text/plain": [
       "{'count': 1,\n",
       " 'crs': CRS({'init': 'epsg:32613'}),\n",
       " 'driver': 'GTiff',\n",
       " 'dtype': 'float32',\n",
       " 'height': 2000,\n",
       " 'nodata': -3.4028234663852886e+38,\n",
       " 'transform': Affine(1.0, 0.0, 472000.0,\n",
       "       0.0, -1.0, 4436000.0),\n",
       " 'width': 4000}"
      ]
     },
     "execution_count": 5,
     "metadata": {},
     "output_type": "execute_result"
    }
   ],
   "source": [
    "# view generate metadata associated with the raster file\n",
    "lidar_dem.meta"
   ]
  },
  {
   "cell_type": "code",
   "execution_count": 6,
   "metadata": {},
   "outputs": [
    {
     "data": {
      "text/plain": [
       "(1.0, 1.0)"
      ]
     },
     "execution_count": 6,
     "metadata": {},
     "output_type": "execute_result"
    }
   ],
   "source": [
    "# what is the spatial resolution?\n",
    "lidar_dem.res"
   ]
  },
  {
   "cell_type": "markdown",
   "metadata": {},
   "source": [
    "You can access the tif tags as well."
   ]
  },
  {
   "cell_type": "code",
   "execution_count": 13,
   "metadata": {},
   "outputs": [
    {
     "name": "stdout",
     "output_type": "stream",
     "text": [
      "{'COMPRESSION': 'LZW', 'INTERLEAVE': 'BAND'}\n"
     ]
    }
   ],
   "source": [
    "# view image stucture\n",
    "with rio.open('data/colorado-flood/spatial/boulder-leehill-rd/pre-flood/lidar/pre_DTM.tif') as lidar_dem:\n",
    "    print(lidar_dem.tags(ns='IMAGE_STRUCTURE'))\n",
    "    lidar_dem_mask = lidar_dem.dataset_mask()"
   ]
  },
  {
   "cell_type": "markdown",
   "metadata": {},
   "source": [
    "**Raster Masks**\n",
    "\n",
    "You can view the mask associated with the data too. Here values that =0 are nodata values whereas = 255 are usable data values."
   ]
  },
  {
   "cell_type": "code",
   "execution_count": 8,
   "metadata": {},
   "outputs": [
    {
     "data": {
      "text/plain": [
       "array([[  0,   0,   0, ..., 255, 255, 255],\n",
       "       [  0,   0,   0, ..., 255, 255, 255],\n",
       "       [  0,   0,   0, ..., 255, 255, 255],\n",
       "       ...,\n",
       "       [  0,   0,   0, ..., 255, 255, 255],\n",
       "       [  0,   0,   0, ..., 255, 255, 255],\n",
       "       [  0,   0,   0, ..., 255, 255, 255]], dtype=uint8)"
      ]
     },
     "execution_count": 8,
     "metadata": {},
     "output_type": "execute_result"
    }
   ],
   "source": [
    "# view data mask\n",
    "lidar_dem_mask"
   ]
  },
  {
   "cell_type": "markdown",
   "metadata": {},
   "source": [
    "***\n",
    "**Data Tip:** Read more about attributes associated with rasterio objects and how they map to gdal objects.\n",
    "***"
   ]
  },
  {
   "cell_type": "markdown",
   "metadata": {},
   "source": [
    "The information returned from the various attributes called above includes:\n",
    "\n",
    "- x and y resolution\n",
    "- projection\n",
    "- data format (in this case your data are stored in float format which means they contain decimals)\n",
    "\n",
    "and more.\n",
    "\n",
    "You can also extract or view individual metadata attributes."
   ]
  },
  {
   "cell_type": "code",
   "execution_count": 9,
   "metadata": {},
   "outputs": [
    {
     "name": "stdout",
     "output_type": "stream",
     "text": [
      "+init=epsg:32613\n",
      "BoundingBox(left=472000.0, bottom=4434000.0, right=476000.0, top=4436000.0)\n"
     ]
    }
   ],
   "source": [
    "print(lidar_dem.crs)\n",
    "print(lidar_dem.bounds)"
   ]
  },
  {
   "cell_type": "markdown",
   "metadata": {},
   "source": [
    "If you extract metadata from your data, you can then perform tests on the data as you process it. For instance, you can ask the question:\n",
    "\n",
    "- Do both datasets have the same spatial extent?\n",
    "\n",
    "Find out the answer to this question this using Python."
   ]
  },
  {
   "cell_type": "code",
   "execution_count": 15,
   "metadata": {},
   "outputs": [
    {
     "name": "stdout",
     "output_type": "stream",
     "text": [
      "Both datasets cover the same spatial extent\n"
     ]
    }
   ],
   "source": [
    "# open lidar dem\n",
    "with rio.open('data/colorado-flood/spatial/boulder-leehill-rd/pre-flood/lidar/pre_DSM.tif') as lidar_dsm:\n",
    "    extent_lidar_dsm = lidar_dsm.bounds\n",
    "\n",
    "if lidar_dem.bounds == lidar_dsm.bounds:\n",
    "    print(\"Both datasets cover the same spatial extent\")"
   ]
  },
  {
   "cell_type": "markdown",
   "metadata": {},
   "source": [
    "How about resolution? Do both datasets have the same horizontal (x and y) resolution?"
   ]
  },
  {
   "cell_type": "code",
   "execution_count": 16,
   "metadata": {},
   "outputs": [
    {
     "data": {
      "text/plain": [
       "True"
      ]
     },
     "execution_count": 16,
     "metadata": {},
     "output_type": "execute_result"
    }
   ],
   "source": [
    "# do both layers have the same spatial resolution\n",
    "lidar_dsm.res == lidar_dem.res"
   ]
  },
  {
   "cell_type": "markdown",
   "metadata": {},
   "source": [
    "#### Extra Metadata with EPSG\n",
    "\n",
    "EPSG is short-hand way of specifying many CRS parameters at once. Each EPSG code correspondings to a Proj4 code. In rasterio, more metadata is available if you use Proj4 instead of EPSG. To see the Proj4 parameters for a given EPSG code, you can either look them up online or use the EPSG to Proj4 dictionary:"
   ]
  },
  {
   "cell_type": "code",
   "execution_count": 19,
   "metadata": {},
   "outputs": [
    {
     "data": {
      "text/plain": [
       "{'init': 'epsg:32613'}"
      ]
     },
     "execution_count": 19,
     "metadata": {},
     "output_type": "execute_result"
    }
   ],
   "source": [
    "# get crs of a rasterio object\n",
    "lidar_dem.crs.data"
   ]
  },
  {
   "cell_type": "markdown",
   "metadata": {},
   "source": [
    "You can use the earthpy et.epsg lookup to get the proj4 string for an epsg code too. Earthpy is a python package build for you by your instructors. We are working on better documentation for it but for the time being you will find snippets of how to use it here."
   ]
  },
  {
   "cell_type": "code",
   "execution_count": 21,
   "metadata": {},
   "outputs": [
    {
     "data": {
      "text/plain": [
       "'+proj=utm +zone=13 +datum=WGS84 +units=m +no_defs'"
      ]
     },
     "execution_count": 21,
     "metadata": {},
     "output_type": "execute_result"
    }
   ],
   "source": [
    "et.epsg['32613']"
   ]
  },
  {
   "cell_type": "markdown",
   "metadata": {},
   "source": [
    "#### Single Layer (or Band) vs Multi-Layer (Band Geotiffs)\n",
    "\n",
    "You will learn more about multi vs single band imagery when you work with RGB (color) imagery in later weeks of this course. However geotiffs can also store more than one band or layer. You can see if a raster object has more than one layer using the .count() function in Python."
   ]
  },
  {
   "cell_type": "code",
   "execution_count": 22,
   "metadata": {},
   "outputs": [
    {
     "name": "stdout",
     "output_type": "stream",
     "text": [
      "1\n"
     ]
    }
   ],
   "source": [
    "print(lidar_dem.count)"
   ]
  },
  {
   "cell_type": "markdown",
   "metadata": {},
   "source": [
    "Another way to see the number of bands is to use the .indexes attribute."
   ]
  },
  {
   "cell_type": "code",
   "execution_count": 23,
   "metadata": {},
   "outputs": [
    {
     "name": "stdout",
     "output_type": "stream",
     "text": [
      "number of bands (1,)\n"
     ]
    }
   ],
   "source": [
    "# how many bands / layers does the object have?\n",
    "print(\"number of bands\", lidar_dem.indexes)"
   ]
  }
 ],
 "metadata": {
  "kernelspec": {
   "display_name": "Python 3",
   "language": "python",
   "name": "python3"
  },
  "language_info": {
   "codemirror_mode": {
    "name": "ipython",
    "version": 3
   },
   "file_extension": ".py",
   "mimetype": "text/x-python",
   "name": "python",
   "nbconvert_exporter": "python",
   "pygments_lexer": "ipython3",
   "version": "3.6.6"
  }
 },
 "nbformat": 4,
 "nbformat_minor": 2
}
