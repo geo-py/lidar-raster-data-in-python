{
 "cells": [
  {
   "cell_type": "markdown",
   "metadata": {},
   "source": [
    "### Lesson 2. Spatial Raster Metadata: CRS, Resolution, and Extent in Python\n",
    "\n",
    "**In This Lesson**\n",
    "\n",
    "Learning Objectives\n",
    "-What You Need\n",
    "1. Coordinate Reference System\n",
    "* Converting EPSG to Proj4 in Python\n",
    "* Spatial Extent\n",
    "* Raster Resolution\n",
    "\n",
    "**Learning Objectives**\n",
    "\n",
    "After completing this tutorial, you will be able to:\n",
    "\n",
    "* Be able to define 3 spatial attributes of a raster dataset: extent, crs and resolution.\n",
    "* Find a raster’s spatial metadata in Python.\n",
    "\n",
    "You will learn about three important spatial attributes associated with raster data that in this lesson: Coordinate Reference Systems, resolution, and spatial extent."
   ]
  },
  {
   "cell_type": "markdown",
   "metadata": {},
   "source": [
    "### 1. Coordinate Reference System\n",
    "\n",
    "The Coordinate Reference System or CRS of a spatial object tells Python where the raster is located in geographic space. It also tells Python what mathematical method should be used to “flatten” or project the raster in geographic space."
   ]
  },
  {
   "cell_type": "markdown",
   "metadata": {},
   "source": [
    "![](https://www.earthdatascience.org/images/courses/earth-analytics/spatial-data/compare-mercator-utm-wgs-projections.jpg)"
   ]
  },
  {
   "cell_type": "markdown",
   "metadata": {},
   "source": [
    "Maps of the United States in different projections. Notice the differences in shape associated with each different projection. These differences are a direct result of the calculations used to \"flatten\" the data onto a 2-dimensional map. Source: M. Corey, opennews.org"
   ]
  },
  {
   "cell_type": "markdown",
   "metadata": {},
   "source": [
    "#### What Makes Spatial Data Line Up On A Map?\n",
    "\n",
    "You will discuss Coordinate Reference systems in more detail in next weeks class. For this week, just remember that data from the same location but saved in **different coordinate references systems will not line up in any GIS or other program.** Thus, it’s important when working with spatial data in a program like Python to identify the coordinate reference system applied to the data and retain it throughout data processing and analysis."
   ]
  },
  {
   "cell_type": "markdown",
   "metadata": {},
   "source": [
    "#### View Raster Coordinate Reference System (CRS) in Python\n",
    "\n",
    "You can view the CRS string associated with your Python object using thecrs() method."
   ]
  },
  {
   "cell_type": "code",
   "execution_count": 9,
   "metadata": {},
   "outputs": [
    {
     "name": "stdout",
     "output_type": "stream",
     "text": [
      "+init=epsg:32613\n"
     ]
    }
   ],
   "source": [
    "# import necessary python packages\n",
    "import rasterio as rio\n",
    "from rasterio.plot import show\n",
    "import earthpy as et\n",
    "import matplotlib.pyplot as plt\n",
    "import numpy as np\n",
    "import os\n",
    "plt.ion()\n",
    "\n",
    "# change working directory\n",
    "os.chdir(\"/Users/markb/earth-analytics/\")\n",
    "\n",
    "# view crs of raster imported with rasterio\n",
    "with rio.open('data/colorado-flood/spatial/boulder-leehill-rd/pre-flood/lidar/pre_DTM.tif') as src:\n",
    "    print(src.crs)"
   ]
  },
  {
   "cell_type": "markdown",
   "metadata": {},
   "source": [
    "You can assign this string to a Python object, too."
   ]
  },
  {
   "cell_type": "code",
   "execution_count": 7,
   "metadata": {},
   "outputs": [
    {
     "data": {
      "text/plain": [
       "CRS({'init': 'epsg:32613'})"
      ]
     },
     "execution_count": 7,
     "metadata": {},
     "output_type": "execute_result"
    }
   ],
   "source": [
    "# Assign crs to myCRS object\n",
    "myCRS = src.crs\n",
    "myCRS"
   ]
  },
  {
   "cell_type": "markdown",
   "metadata": {},
   "source": [
    "The CRS EPSG code for your lidar_dem object is 32613. Next, you can look that EPSG code up on the spatial reference.org website to figure out what CRS it refers to and the associated units. In this case you are using UTM zone 13 North.\n",
    "\n",
    "Digging deeper you can view the proj 4 string which tells us that the horizontal units of this project are in meters (m)."
   ]
  },
  {
   "cell_type": "markdown",
   "metadata": {},
   "source": [
    "![](https://www.earthdatascience.org/images/courses/earth-analytics/spatial-data/UTM-zones.png)\n",
    "The UTM zones across the continental United States. Source: Chrismurf, wikimedia.org.\n"
   ]
  },
  {
   "cell_type": "markdown",
   "metadata": {},
   "source": [
    "The CRS format, returned by python, is in a EPSG format. This means that the projection information is represented by a single number. However on the spatialreference.org website you can also view the proj4 string which will tell you a bit more about the horizontal units that the data are in. An overview of proj4 is below.\n",
    "\n",
    "`+proj=utm +zone=18 +datum=WGS84 +units=m +no_defs +ellps=WGS84 +towgs84=0,0,0`"
   ]
  },
  {
   "cell_type": "markdown",
   "metadata": {},
   "source": [
    "### Converting EPSG to Proj4 in Python\n",
    "\n",
    "A python package for this class called ‘earthpy’ contains a dictionary that will help you convert EPSG codes into a Proj4 string. This can be used with rasterio in order to determine the metadata for a given EPSG code. For example, if you wish to know the units of the EPSG code above, you can do the following:"
   ]
  },
  {
   "cell_type": "code",
   "execution_count": 10,
   "metadata": {},
   "outputs": [
    {
     "name": "stdout",
     "output_type": "stream",
     "text": [
      "['29188', '26733', '24600', '32189', '4899', '29189', '26734', '7402', '26951', '29190']\n"
     ]
    }
   ],
   "source": [
    "# each key of the dictionary is an EPSG code\n",
    "print(list(et.epsg.keys())[:10])"
   ]
  },
  {
   "cell_type": "code",
   "execution_count": 11,
   "metadata": {},
   "outputs": [
    {
     "name": "stdout",
     "output_type": "stream",
     "text": [
      "+proj=utm +zone=13 +datum=WGS84 +units=m +no_defs\n"
     ]
    }
   ],
   "source": [
    "# you can convert to proj4 like so:\n",
    "proj4 = et.epsg['32613']\n",
    "print(proj4)"
   ]
  },
  {
   "cell_type": "code",
   "execution_count": 12,
   "metadata": {},
   "outputs": [
    {
     "data": {
      "text/plain": [
       "CRS({'proj': 'utm', 'zone': 13, 'datum': 'WGS84', 'units': 'm', 'no_defs': True})"
      ]
     },
     "execution_count": 12,
     "metadata": {},
     "output_type": "execute_result"
    }
   ],
   "source": [
    "# finally you can convert this into a rasterio CRS like so:\n",
    "crs_proj4 = rio.crs.CRS.from_string(proj4)\n",
    "crs_proj4"
   ]
  },
  {
   "cell_type": "markdown",
   "metadata": {},
   "source": [
    "You’ll focus on the first few components of the CRS in this tutorial.\n",
    "\n",
    "* `+proj=utm` The projection of the dataset. Your data are in Universal Transverse Mercator (UTM).\n",
    "* `+zone=18` The UTM projection divides up the world into zones, this element tells you which zone the data is in. Harvard Forest is in Zone 18.\n",
    "* `+datum=WGS84` The datum was used to define the center point of the projection. Your raster uses the WGS84 datum.\n",
    "* `+units=m` This is the horizontal units that the data are in. Your units are meters."
   ]
  },
  {
   "cell_type": "markdown",
   "metadata": {},
   "source": [
    "***\n",
    "\n",
    "**Important:*** IMPORTANT: You are working with lidar data which has a Z or vertical value as well. While the horizontal units often match the vertical units of a raster they don’t always! Be sure the check the metadata of your data to figure out the vertical units!\n",
    "\n",
    "***"
   ]
  },
  {
   "cell_type": "markdown",
   "metadata": {},
   "source": [
    "### Spatial Extent\n",
    "\n",
    "Next, you’ll learn about spatial extent of your raster data. The spatial extent of a raster or spatial object is the geographic area that the raster data covers."
   ]
  },
  {
   "cell_type": "markdown",
   "metadata": {},
   "source": [
    "![](https://www.earthdatascience.org/images/courses/earth-analytics/raster-data/raster-spatial-extent-coordinates.png)\n",
    "The spatial extent of raster data. Notice that the spatial extent represents the rectangular area that the data cover. Thus, if the data are not rectangular (i.e. points OR an image that is rotated in some way) the spatial extent covers portions of the dataset where there are no data. Image Source: National Ecological Observatory Network (NEON)."
   ]
  },
  {
   "cell_type": "markdown",
   "metadata": {},
   "source": [
    "![](https://www.earthdatascience.org/images/courses/earth-analytics/spatial-data/spatial-extent.png)\n",
    "The spatial extent of vector data which you will learn next week. Notice that the spatial extent represents the rectangular area that the data cover. Thus, if the data are not rectangular (i.e. points OR an image that is rotated in some way) the spatial extent covers portions of the dataset where there are no data. Image Source: National Ecological Observatory Network (NEON)"
   ]
  },
  {
   "cell_type": "markdown",
   "metadata": {},
   "source": [
    "The spatial extent of an Python spatial object represents the geographic “edge” or location that is the furthest north, south, east and west. In other words, extent represents the overall geographic coverage of the spatial object.\n",
    "\n",
    "You can access the spatial extent using the .bounds attribute in rasterio."
   ]
  },
  {
   "cell_type": "code",
   "execution_count": 15,
   "metadata": {},
   "outputs": [
    {
     "data": {
      "text/plain": [
       "BoundingBox(left=472000.0, bottom=4434000.0, right=476000.0, top=4436000.0)"
      ]
     },
     "execution_count": 15,
     "metadata": {},
     "output_type": "execute_result"
    }
   ],
   "source": [
    "src.bounds"
   ]
  },
  {
   "cell_type": "markdown",
   "metadata": {},
   "source": [
    "### Raster Resolution\n",
    "\n",
    "A raster has horizontal (x and y) resolution. This resolution represents the area on the ground that each pixel covers. The units for your data are in meters as determined by the CRS above. In this case, your data resolution is 1 x 1. This means that each pixel represents a 1 x 1 meter area on the ground. You can view the resolution of your data using the .res function."
   ]
  },
  {
   "cell_type": "code",
   "execution_count": 16,
   "metadata": {},
   "outputs": [
    {
     "data": {
      "text/plain": [
       "(1.0, 1.0)"
      ]
     },
     "execution_count": 16,
     "metadata": {},
     "output_type": "execute_result"
    }
   ],
   "source": [
    "# what is the x and y resolution for your raster data?\n",
    "src.res"
   ]
  },
  {
   "cell_type": "code",
   "execution_count": null,
   "metadata": {},
   "outputs": [],
   "source": []
  }
 ],
 "metadata": {
  "kernelspec": {
   "display_name": "Python 3",
   "language": "python",
   "name": "python3"
  },
  "language_info": {
   "codemirror_mode": {
    "name": "ipython",
    "version": 3
   },
   "file_extension": ".py",
   "mimetype": "text/x-python",
   "name": "python",
   "nbconvert_exporter": "python",
   "pygments_lexer": "ipython3",
   "version": "3.6.6"
  }
 },
 "nbformat": 4,
 "nbformat_minor": 2
}
